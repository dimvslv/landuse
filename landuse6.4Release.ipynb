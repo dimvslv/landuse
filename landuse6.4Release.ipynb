{
 "cells": [
  {
   "cell_type": "code",
   "execution_count": null,
   "id": "351d2b9b-6c27-409f-9266-9f8c6395f08e",
   "metadata": {},
   "outputs": [],
   "source": [
    "import pandas as pd\n",
    "import geopandas as gpd\n",
    "import re  \n",
    "import fiona\n"
   ]
  },
  {
   "cell_type": "code",
   "execution_count": null,
   "id": "8ef28d88-e89a-4e5e-8774-2888573c89cb",
   "metadata": {},
   "outputs": [],
   "source": [
    "with fiona.open(r\"Z:\\landuse.shp\", encoding=\"utf-8\") as shapefile:\n",
    "    gdf = gpd.GeoDataFrame.from_features(shapefile)\n",
    "    "
   ]
  },
  {
   "cell_type": "code",
   "execution_count": null,
   "id": "9bb60391-c409-4365-99f2-25910e2279cf",
   "metadata": {},
   "outputs": [],
   "source": [
    "gdf['group1'] = ''\n",
    "gdf['id_group1'] = ''\n",
    "gdf['match'] = ''\n",
    "gdf['position'] = ''\n",
    "gdf['group2'] = ''\n",
    "gdf['id_group2'] = ''\n",
    "\n",
    "gdf.head(5)\n"
   ]
  },
  {
   "cell_type": "code",
   "execution_count": null,
   "id": "1e531011-c030-46b5-b736-83abd67ceb25",
   "metadata": {},
   "outputs": [],
   "source": [
    "gdf.info()\n"
   ]
  },
  {
   "cell_type": "code",
   "execution_count": null,
   "id": "fe303486-53c9-4899-8c28-a42e57bbd5e3",
   "metadata": {},
   "outputs": [],
   "source": [
    "gdf.tsn_ru.value_counts()\n"
   ]
  },
  {
   "cell_type": "code",
   "execution_count": null,
   "id": "29aa84b4-2cb3-44b3-a7cc-3a0eaae7ea81",
   "metadata": {},
   "outputs": [],
   "source": [
    "gdf.kad_num.value_counts()\n"
   ]
  },
  {
   "cell_type": "code",
   "execution_count": null,
   "id": "a8131628-e130-4782-8840-c51ecca58b91",
   "metadata": {},
   "outputs": [],
   "source": [
    "id = {\n",
    "    'Сельскохозяйственные': 1,\n",
    "    'Жилые': 2,\n",
    "    'Общественно-деловые': 3,\n",
    "    'Промышленные': 4,\n",
    "    'Охраняемые и памятники': 5,\n",
    "    'Рекреационные': 6,\n",
    "    'Режимные объекты': 7,\n",
    "    'Специального назначения': 8,\n",
    "    'Транспорт': 9,\n",
    "    'Инженерные и коммунально-складские': 10,\n",
    "    'Образование': 11,\n",
    "    'Прочие': 12,\n",
    "}\n"
   ]
  },
  {
   "cell_type": "markdown",
   "id": "bfb8fca1-68d8-49a1-8342-818f88bc653e",
   "metadata": {},
   "source": [
    "#### Фильтрация по ключевым словам"
   ]
  },
  {
   "cell_type": "code",
   "execution_count": null,
   "id": "90847b8e-7670-4530-976c-772497946e69",
   "metadata": {},
   "outputs": [],
   "source": [
    "category_patterns = {\n",
    "    'Сельскохозяйственные': re.compile(r'\\b()\\w*\\b', re.IGNORECASE),\n",
    "    'Жилые': re.compile(r'\\b()\\w*\\b', re.IGNORECASE),\n",
    "    'Общественно-деловые': re.compile(r'\\b()\\w*\\b', re.IGNORECASE),\n",
    "    'Промышленные': re.compile(r'\\b()\\w*\\b', re.IGNORECASE),\n",
    "    'Охраняемые и памятники': re.compile(r'\\b()\\w*\\b', re.IGNORECASE),\n",
    "    'Рекреационные': re.compile(r'\\b()\\b', re.IGNORECASE),\n",
    "    'Режимные объекты': re.compile(r'\\b()\\w*\\b', re.IGNORECASE),\n",
    "    'Специального назначения': re.compile(r'\\b()\\w*\\b', re.IGNORECASE),\n",
    "    'Транспорт': re.compile(r'\\b()\\w*\\b'),\n",
    "    'Инженерные и коммунально-складские': re.compile(r'\\b()\\w*\\b'),\n",
    "    'Образование': re.compile(r'\\b()\\w*\\b', re.IGNORECASE),\n",
    "    'Прочие': re.compile(r'\\b()\\w*\\b'),\n",
    "}"
   ]
  },
  {
   "cell_type": "code",
   "execution_count": null,
   "id": "b5c96cb8-3caa-4fb7-a3a0-ec1e3ccb5bef",
   "metadata": {},
   "outputs": [],
   "source": [
    "for column in gdf.columns:\n",
    "    if column == 'geometry':\n",
    "        continue\n",
    "    else:    \n",
    "        gdf[column] = gdf[column].astype(str)"
   ]
  },
  {
   "cell_type": "markdown",
   "id": "04ae3751-d25c-4982-a594-38004a9cc1af",
   "metadata": {},
   "source": [
    "#### Первое слово дороже второго"
   ]
  },
  {
   "cell_type": "code",
   "execution_count": null,
   "id": "31744d0f-6b9c-499d-b476-cd754ae2d6a9",
   "metadata": {},
   "outputs": [],
   "source": [
    "for idx, line in gdf.iterrows():\n",
    "    matches = []\n",
    "    for category, pattern in category_patterns.items():\n",
    "        match = pattern.search(line['tsn_ru'])\n",
    "        if match:\n",
    "            matches.append((category, match.group(), match.start()))\n",
    "    \n",
    "    if matches:\n",
    "        \n",
    "        # Заполняем первую категорию и ID\n",
    "        gdf.at[idx, 'group1'] = matches[0][0]\n",
    "        gdf.at[idx, 'id_group1'] = str(id[matches[0][0]])\n",
    "        gdf.at[idx, 'match'] = matches[0][1]\n",
    "        gdf.at[idx, 'position'] = str(matches[0][2])\n",
    "        gdf.at[idx, 'group1'] = matches[0][0]\n",
    "        gdf.at[idx, 'id_group1'] = str(id[matches[0][0]])\n",
    "        \n",
    "        # Если есть другие совпадения, добавляем их через запятую\n",
    "        for match in matches[1:]:\n",
    "            gdf.at[idx, 'group1'] += f', {match[0]}'\n",
    "            gdf.at[idx, 'id_group1'] += f', {id[match[0]]}'\n",
    "            gdf.at[idx, 'match'] += f', {match[1]}'\n",
    "            gdf.at[idx, 'position'] += f', {match[2]}'\n",
    "\n",
    "        matches.sort(key=lambda x: x[2])\n",
    "\n",
    "        gdf.at[idx, 'group2'] = matches[0][0]\n",
    "        gdf.at[idx, 'id_group2'] = str(id[matches[0][0]])\n"
   ]
  },
  {
   "cell_type": "markdown",
   "id": "3975c5f0-a55f-4325-889b-0152c3663852",
   "metadata": {},
   "source": [
    "#### Отладка"
   ]
  },
  {
   "cell_type": "code",
   "execution_count": null,
   "id": "9473c08d-6be6-47e3-836c-ec21ee1ed3f4",
   "metadata": {
    "scrolled": true
   },
   "outputs": [],
   "source": [
    "from fuzzywuzzy import fuzz\n",
    "import matplotlib.pyplot as plt"
   ]
  },
  {
   "cell_type": "code",
   "execution_count": null,
   "id": "ac7261ca-cf34-43b3-b3be-08cad25ca40c",
   "metadata": {},
   "outputs": [],
   "source": [
    "gdf['id_group2'].value_counts()"
   ]
  },
  {
   "cell_type": "code",
   "execution_count": null,
   "id": "03fd886c-7767-4843-90c4-17ff2ee827f0",
   "metadata": {
    "scrolled": true
   },
   "outputs": [],
   "source": [
    "counts = gdf['id_group2'].value_counts()\n",
    "\n",
    "plt.figure(figsize=(4, 4))\n",
    "plt.pie(counts, startangle=90, labeldistance=1.1)\n",
    "plt.legend(counts.index, loc='right', bbox_to_anchor=(0,0.5,1.3,0))\n",
    "plt.show()"
   ]
  },
  {
   "cell_type": "markdown",
   "id": "1c513665-68a3-44be-b6b8-e56b0606aea0",
   "metadata": {},
   "source": [
    "##### 1. Сельскохозяйственные"
   ]
  },
  {
   "cell_type": "code",
   "execution_count": null,
   "id": "5f7617c0-a4d6-483e-818a-8bb7f8f986a2",
   "metadata": {},
   "outputs": [],
   "source": [
    "len(gdf[gdf['id_group2'] == '1'])"
   ]
  },
  {
   "cell_type": "code",
   "execution_count": null,
   "id": "c29fa858-dea7-4a53-b3f4-25b03e5ade7e",
   "metadata": {},
   "outputs": [],
   "source": [
    "agricult = []\n",
    "\n",
    "for i,j in enumerate(sorted(gdf[gdf['id_group2'] == '1'].tsn_ru.unique())):\n",
    "    agricult.append(j)\n",
    "    print(i,j)"
   ]
  },
  {
   "cell_type": "code",
   "execution_count": null,
   "id": "986ac63a-0352-4653-9442-06f02b3aec2e",
   "metadata": {},
   "outputs": [],
   "source": [
    "agricult_simplified = []\n",
    "\n",
    "for k in agricult:\n",
    "    is_similar = False\n",
    "    for n in agricult_simplified:\n",
    "        if fuzz.ratio(k, n) > 90:\n",
    "            is_similar = True\n",
    "            break\n",
    "    if not is_similar:\n",
    "        agricult_simplified.append(k)\n",
    "\n",
    "for x, y in enumerate(agricult_simplified):\n",
    "    print(x,y)"
   ]
  },
  {
   "cell_type": "markdown",
   "id": "797b96b1-e1a4-41ae-a52a-7d678a9bbf8c",
   "metadata": {},
   "source": [
    "##### 2. Жилые"
   ]
  },
  {
   "cell_type": "code",
   "execution_count": null,
   "id": "04cf7e76-2ad3-4cee-8afc-c7db047db462",
   "metadata": {},
   "outputs": [],
   "source": [
    "len(gdf[gdf['id_group2'] == '2'])"
   ]
  },
  {
   "cell_type": "code",
   "execution_count": null,
   "id": "c46873c3-eb70-4e56-94a0-a8d90e428495",
   "metadata": {},
   "outputs": [],
   "source": [
    "jil = []\n",
    "\n",
    "for i,j in enumerate(sorted(gdf[gdf['id_group2'] == '2'].tsn_ru.unique())):\n",
    "    jil.append(j)\n",
    "    print(i,j)"
   ]
  },
  {
   "cell_type": "code",
   "execution_count": null,
   "id": "2abdbc90-e84a-4e7a-a6d2-a157a88e4635",
   "metadata": {},
   "outputs": [],
   "source": [
    "jil_simplified = []\n",
    "\n",
    "for k in jil:\n",
    "    is_similar = False\n",
    "    for n in jil_simplified:\n",
    "        if fuzz.ratio(k, n) > 60:\n",
    "            is_similar = True\n",
    "            break\n",
    "    if not is_similar:\n",
    "        jil_simplified.append(k)\n",
    "\n",
    "for x, y in enumerate(jil_simplified):\n",
    "    print(x,y)\n"
   ]
  },
  {
   "cell_type": "markdown",
   "id": "9e37d198-cf0b-463a-9dad-f26e440439d8",
   "metadata": {},
   "source": [
    "##### 3. Общественно-деловые"
   ]
  },
  {
   "cell_type": "code",
   "execution_count": null,
   "id": "a7823e19-459f-471c-a7f0-6e8b75bb1635",
   "metadata": {},
   "outputs": [],
   "source": [
    "len(gdf[gdf['id_group2'] == '3'])"
   ]
  },
  {
   "cell_type": "code",
   "execution_count": null,
   "id": "bf435efb-04b0-4b5a-8735-c17a51f72954",
   "metadata": {},
   "outputs": [],
   "source": [
    "odz = []\n",
    "\n",
    "for i,j in enumerate(sorted(gdf[gdf['id_group2'] == '3'].tsn_ru.unique())):\n",
    "    odz.append(j)\n",
    "    print(i,j)"
   ]
  },
  {
   "cell_type": "code",
   "execution_count": null,
   "id": "04b12bfc-f312-43df-a3c8-dc89f7cc7943",
   "metadata": {},
   "outputs": [],
   "source": [
    "odz_simplified = []\n",
    "\n",
    "for k in odz:\n",
    "    is_similar = False\n",
    "    for n in odz_simplified:\n",
    "        if fuzz.ratio(k, n) > 45:\n",
    "            is_similar = True\n",
    "            break\n",
    "    if not is_similar:\n",
    "        odz_simplified.append(k)\n",
    "\n",
    "for x, y in enumerate(odz_simplified):\n",
    "    print(x,y)\n",
    "\n",
    "#7"
   ]
  },
  {
   "cell_type": "markdown",
   "id": "1fe9d316-d62d-405d-82de-916e899506da",
   "metadata": {},
   "source": [
    "##### 4. Промышленные"
   ]
  },
  {
   "cell_type": "code",
   "execution_count": null,
   "id": "e70d682f-913f-4d8a-b856-08ac8977a7fb",
   "metadata": {},
   "outputs": [],
   "source": [
    "len(gdf[gdf['id_group2'] == '4'])"
   ]
  },
  {
   "cell_type": "code",
   "execution_count": null,
   "id": "7c4ca9f9-95f8-4430-b40c-f7ce78c89472",
   "metadata": {},
   "outputs": [],
   "source": [
    "prom = []\n",
    "\n",
    "for i,j in enumerate(sorted(gdf[gdf['id_group2'] == '4'].tsn_ru.unique())):\n",
    "    prom.append(j)\n",
    "    print(i,j)\n"
   ]
  },
  {
   "cell_type": "code",
   "execution_count": null,
   "id": "3c05fae8",
   "metadata": {},
   "outputs": [],
   "source": [
    "prom_simplified = []\n",
    "\n",
    "for k in prom:\n",
    "    is_similar = False\n",
    "    for n in prom_simplified:\n",
    "        if fuzz.ratio(k, n) > 65:\n",
    "            is_similar = True\n",
    "            break\n",
    "    if not is_similar:\n",
    "        prom_simplified.append(k)\n",
    "\n",
    "for x, y in enumerate(prom_simplified):\n",
    "    print(x,y)\n",
    "    "
   ]
  },
  {
   "cell_type": "markdown",
   "id": "f591a32a-a9ba-46e4-a6bb-23b6f9e5a2bc",
   "metadata": {},
   "source": [
    "##### 5. Охраняемые и памятники"
   ]
  },
  {
   "cell_type": "code",
   "execution_count": null,
   "id": "25f95a35-4045-4a4c-bd65-0351f5996d12",
   "metadata": {},
   "outputs": [],
   "source": [
    "len(gdf[gdf['id_group2'] == '5'])"
   ]
  },
  {
   "cell_type": "code",
   "execution_count": null,
   "id": "b4103f33-29ea-4b80-a26b-87dd653bd341",
   "metadata": {},
   "outputs": [],
   "source": [
    "protect = []\n",
    "\n",
    "for i,j in enumerate(sorted(gdf[gdf['id_group2'] == '5'].tsn_ru.unique())):\n",
    "    protect.append(j)\n",
    "    print(i,j)\n"
   ]
  },
  {
   "cell_type": "markdown",
   "id": "0251c676-8fc1-439e-9dca-c700566dca68",
   "metadata": {},
   "source": [
    "#### 6. Рекреационные"
   ]
  },
  {
   "cell_type": "code",
   "execution_count": null,
   "id": "eece72ba-fa3d-4375-baf3-f1a52ffedec8",
   "metadata": {},
   "outputs": [],
   "source": [
    "len(gdf[gdf['id_group2'] == '6'])"
   ]
  },
  {
   "cell_type": "code",
   "execution_count": null,
   "id": "d3f74cb9-8589-416e-bac8-854d55dc358d",
   "metadata": {},
   "outputs": [],
   "source": [
    "rec = []\n",
    "\n",
    "for i,j in enumerate(sorted(gdf[gdf['id_group2'] == '6'].tsn_ru.unique())):\n",
    "    rec.append(j)\n",
    "    print(i,j)\n",
    "\n",
    "\n",
    "# 108\n",
    "# 109"
   ]
  },
  {
   "cell_type": "markdown",
   "id": "a0e678b1-9eb4-44f7-9fea-7d6a00c54a2e",
   "metadata": {},
   "source": [
    "#### 7. Режимные объекты"
   ]
  },
  {
   "cell_type": "code",
   "execution_count": null,
   "id": "fcc563e0-b575-443b-88ea-29317e90f306",
   "metadata": {},
   "outputs": [],
   "source": [
    "len(gdf[gdf['id_group2'] == '7'])"
   ]
  },
  {
   "cell_type": "code",
   "execution_count": null,
   "id": "be88cc07-0172-4022-8bfe-50542e45e72a",
   "metadata": {},
   "outputs": [],
   "source": [
    "restrict = []\n",
    "\n",
    "for i,j in enumerate(sorted(gdf[gdf['id_group2'] == '7'].tsn_ru.unique())):\n",
    "    restrict.append(j)\n",
    "    print(i,j)\n"
   ]
  },
  {
   "cell_type": "markdown",
   "id": "25576079-6446-4cff-ad0c-807f019543cc",
   "metadata": {},
   "source": [
    "#### 8. Специального назначения"
   ]
  },
  {
   "cell_type": "code",
   "execution_count": null,
   "id": "d046df7e-4180-4f1f-a3a1-917f4476817a",
   "metadata": {},
   "outputs": [],
   "source": [
    "len(gdf[gdf['id_group2'] == '8'])"
   ]
  },
  {
   "cell_type": "code",
   "execution_count": null,
   "id": "f5b6f3c8-67ab-4978-ad8a-69e46b9b08c8",
   "metadata": {},
   "outputs": [],
   "source": [
    "spec = []\n",
    "\n",
    "for i,j in enumerate(sorted(gdf[gdf['id_group2'] == '8'].tsn_ru.unique())):\n",
    "    spec.append(j)\n",
    "    print(i,j)\n"
   ]
  },
  {
   "cell_type": "markdown",
   "id": "adc4ecd3-85fa-4612-957f-3ec8d273b684",
   "metadata": {},
   "source": [
    "#### 9. Транспорт"
   ]
  },
  {
   "cell_type": "code",
   "execution_count": null,
   "id": "91f0ddd7-91aa-4b91-b27f-cdf06872a5b8",
   "metadata": {},
   "outputs": [],
   "source": [
    "len(gdf[gdf['id_group2'] == '9'])"
   ]
  },
  {
   "cell_type": "code",
   "execution_count": null,
   "id": "4fcc172c-d82f-4ffb-ba56-f6c0030e0a60",
   "metadata": {},
   "outputs": [],
   "source": [
    "transport = []\n",
    "\n",
    "for i,j in enumerate(sorted(gdf[gdf['id_group2'] == '9'].tsn_ru.unique())):\n",
    "    transport.append(j)\n",
    "    print(i,j)\n"
   ]
  },
  {
   "cell_type": "code",
   "execution_count": null,
   "id": "2a14774d-4e28-49f0-9103-08a5ee05a641",
   "metadata": {},
   "outputs": [],
   "source": [
    "transport_simplified = []\n",
    "\n",
    "for k in transport:\n",
    "    is_similar = False\n",
    "    for n in transport_simplified:\n",
    "        if fuzz.ratio(k, n) > 60:\n",
    "            is_similar = True\n",
    "            break\n",
    "    if not is_similar:\n",
    "        transport_simplified.append(k)\n",
    "\n",
    "for x, y in enumerate(transport_simplified):\n",
    "    print(x,y)\n",
    "    "
   ]
  },
  {
   "cell_type": "markdown",
   "id": "fbfbceb6-e124-4f0b-b8b4-55a789f5ee02",
   "metadata": {},
   "source": [
    "#### 10. Инженерные и коммунально-складские"
   ]
  },
  {
   "cell_type": "code",
   "execution_count": null,
   "id": "3e357832-0497-40b6-b873-3d994da08759",
   "metadata": {},
   "outputs": [],
   "source": [
    "len(gdf[gdf['id_group2'] == '10'])"
   ]
  },
  {
   "cell_type": "code",
   "execution_count": null,
   "id": "42acc1ed-6c9c-4e29-8c47-00febac379d4",
   "metadata": {},
   "outputs": [],
   "source": [
    "komm = []\n",
    "\n",
    "for i,j in enumerate(sorted(gdf[gdf['id_group2'] == '10'].tsn_ru.unique())):\n",
    "    komm.append(j)\n",
    "    print(i,j)\n"
   ]
  },
  {
   "cell_type": "code",
   "execution_count": null,
   "id": "76e4286f-7b41-4c4d-a963-1485b0cf38d8",
   "metadata": {},
   "outputs": [],
   "source": [
    "komm_simplified = []\n",
    "\n",
    "for k in komm:\n",
    "    is_similar = False\n",
    "    for n in komm_simplified:\n",
    "        if fuzz.ratio(k, n) > 60:\n",
    "            is_similar = True\n",
    "            break\n",
    "    if not is_similar:\n",
    "        komm_simplified.append(k)\n",
    "\n",
    "for x, y in enumerate(komm_simplified):\n",
    "    print(x,y)\n",
    "    "
   ]
  },
  {
   "cell_type": "markdown",
   "id": "0d5de1cf-3d8c-4d95-b934-46a252124ef9",
   "metadata": {},
   "source": [
    "#### 11. Образование"
   ]
  },
  {
   "cell_type": "code",
   "execution_count": null,
   "id": "968ff038-ac0c-4af7-9ab0-8c67894cc65b",
   "metadata": {},
   "outputs": [],
   "source": [
    "len(gdf[gdf['id_group2'] == '11'])"
   ]
  },
  {
   "cell_type": "code",
   "execution_count": null,
   "id": "8359847d-6bca-4014-98b0-625c404a3e38",
   "metadata": {},
   "outputs": [],
   "source": [
    "edu = []\n",
    "\n",
    "for i,j in enumerate(sorted(gdf[gdf['id_group2'] == '11'].tsn_ru.unique())):\n",
    "    edu.append(j)\n",
    "    print(i,j)\n"
   ]
  },
  {
   "cell_type": "code",
   "execution_count": null,
   "id": "315834da-6969-4680-89bb-3ac5e47dec0a",
   "metadata": {},
   "outputs": [],
   "source": [
    "edu_simplified = []\n",
    "\n",
    "for k in edu:\n",
    "    is_similar = False\n",
    "    for n in edu_simplified:\n",
    "        if fuzz.ratio(k, n) > 70:\n",
    "            is_similar = True\n",
    "            break\n",
    "    if not is_similar:\n",
    "        edu_simplified.append(k)\n",
    "\n",
    "for x, y in enumerate(edu_simplified):\n",
    "    print(x,y)\n",
    "    "
   ]
  },
  {
   "cell_type": "markdown",
   "id": "701bce92-1074-42b5-a348-c65ca9cdf9fa",
   "metadata": {},
   "source": [
    "#### 12. Прочие"
   ]
  },
  {
   "cell_type": "code",
   "execution_count": null,
   "id": "c3b43f1a-9734-4838-9f77-bbbb3f1b4099",
   "metadata": {},
   "outputs": [],
   "source": [
    "len(gdf[gdf['id_group2'] == '12'])"
   ]
  },
  {
   "cell_type": "code",
   "execution_count": null,
   "id": "dcfd9a54-d266-4994-9dea-61088491f14a",
   "metadata": {},
   "outputs": [],
   "source": [
    "other = []\n",
    "\n",
    "for i,j in enumerate(sorted(gdf[gdf['id_group2'] == '12'].tsn_ru.unique())):\n",
    "    other.append(j)\n",
    "    print(i,j)\n"
   ]
  },
  {
   "cell_type": "code",
   "execution_count": null,
   "id": "64b482b9-e340-47a8-9144-1d92f55ecbff",
   "metadata": {},
   "outputs": [],
   "source": [
    "other_simplified = []\n",
    "\n",
    "for k in other:\n",
    "    is_similar = False\n",
    "    for n in other_simplified:\n",
    "        if fuzz.ratio(k, n) > 70:\n",
    "            is_similar = True\n",
    "            break\n",
    "    if not is_similar:\n",
    "        other_simplified.append(k)\n",
    "\n",
    "for x, y in enumerate(other_simplified):\n",
    "    print(x,y)\n",
    "    "
   ]
  },
  {
   "cell_type": "markdown",
   "id": "1c1f45c0-0092-4f7c-9b96-771484eaf4b6",
   "metadata": {},
   "source": [
    "#### Пустые"
   ]
  },
  {
   "cell_type": "code",
   "execution_count": null,
   "id": "d4a36edb-9b60-4a4f-8680-c6febd22aa15",
   "metadata": {},
   "outputs": [],
   "source": [
    "len(gdf[gdf['id_group2'] == \"\"])"
   ]
  },
  {
   "cell_type": "code",
   "execution_count": null,
   "id": "a5e6024a-f109-463f-8941-522e53c88b98",
   "metadata": {},
   "outputs": [],
   "source": [
    "empty = []\n",
    "\n",
    "for i,j in enumerate(sorted(gdf[gdf['id_group2'] == ''].tsn_ru.unique())):\n",
    "    empty.append(j)\n",
    "    print(i,j)\n"
   ]
  },
  {
   "cell_type": "code",
   "execution_count": null,
   "id": "e6896b08-b969-4f34-9c22-d74a91a85385",
   "metadata": {},
   "outputs": [],
   "source": [
    "gdf.to_excel(r\"C:\\Users\\Dmitrii.L\\Desktop\\output.xlsx\", index=False)\n"
   ]
  },
  {
   "cell_type": "code",
   "execution_count": null,
   "id": "9522050d-7453-449e-b1af-08c9058c521f",
   "metadata": {},
   "outputs": [],
   "source": [
    "gdf.to_file(r\"C:\\Users\\Dmitrii.L\\Desktop\\output.shp\")\n"
   ]
  }
 ],
 "metadata": {
  "kernelspec": {
   "display_name": "Python 3 (ipykernel)",
   "language": "python",
   "name": "python3"
  },
  "language_info": {
   "codemirror_mode": {
    "name": "ipython",
    "version": 3
   },
   "file_extension": ".py",
   "mimetype": "text/x-python",
   "name": "python",
   "nbconvert_exporter": "python",
   "pygments_lexer": "ipython3",
   "version": "3.12.3"
  }
 },
 "nbformat": 4,
 "nbformat_minor": 5
}
